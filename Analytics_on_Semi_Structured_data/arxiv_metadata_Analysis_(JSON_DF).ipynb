{
  "cells": [
    {
      "cell_type": "markdown",
      "metadata": {
        "id": "rKV4p61s_KsL"
      },
      "source": [
        "# **Arxiv metadata Analytics with PySpark DF: JSON case study**"
      ]
    },
    {
      "cell_type": "code",
      "execution_count": 1,
      "metadata": {
        "id": "r6LNmQMY_KsP",
        "colab": {
          "base_uri": "https://localhost:8080/"
        },
        "outputId": "29e8b4a9-f960-4b42-9b2a-e7daffdf7e25"
      },
      "outputs": [
        {
          "output_type": "stream",
          "name": "stdout",
          "text": [
            "Collecting pyspark\n",
            "  Downloading pyspark-3.5.3.tar.gz (317.3 MB)\n",
            "\u001b[2K     \u001b[90m━━━━━━━━━━━━━━━━━━━━━━━━━━━━━━━━━━━━━━━━\u001b[0m \u001b[32m317.3/317.3 MB\u001b[0m \u001b[31m4.0 MB/s\u001b[0m eta \u001b[36m0:00:00\u001b[0m\n",
            "\u001b[?25h  Preparing metadata (setup.py) ... \u001b[?25l\u001b[?25hdone\n",
            "Requirement already satisfied: py4j==0.10.9.7 in /usr/local/lib/python3.10/dist-packages (from pyspark) (0.10.9.7)\n",
            "Building wheels for collected packages: pyspark\n",
            "  Building wheel for pyspark (setup.py) ... \u001b[?25l\u001b[?25hdone\n",
            "  Created wheel for pyspark: filename=pyspark-3.5.3-py2.py3-none-any.whl size=317840625 sha256=54b5eb59242b060c3d21c123485dc21f130168c863aedb78c8573f92433ad487\n",
            "  Stored in directory: /root/.cache/pip/wheels/1b/3a/92/28b93e2fbfdbb07509ca4d6f50c5e407f48dce4ddbda69a4ab\n",
            "Successfully built pyspark\n",
            "Installing collected packages: pyspark\n",
            "Successfully installed pyspark-3.5.3\n"
          ]
        }
      ],
      "source": [
        "########## ONLY in Colab ##########\n",
        "!pip3 install pyspark\n",
        "########## ONLY in Colab ##########"
      ]
    },
    {
      "cell_type": "code",
      "execution_count": null,
      "metadata": {
        "id": "SIvN-E9n_KsR"
      },
      "outputs": [],
      "source": [
        "########## ONLY in Ubuntu Machine ##########\n",
        "# Load Spark engine\n",
        "!pip3 install -q findspark\n",
        "import findspark\n",
        "findspark.init()\n",
        "########## ONLY in Ubuntu Machine ##########"
      ]
    },
    {
      "cell_type": "code",
      "execution_count": 2,
      "metadata": {
        "id": "3YlWY9fC_KsR",
        "colab": {
          "base_uri": "https://localhost:8080/",
          "height": 219
        },
        "outputId": "83c2a30c-fd13-4356-911c-c5f8374870f1"
      },
      "outputs": [
        {
          "output_type": "execute_result",
          "data": {
            "text/plain": [
              "<pyspark.sql.session.SparkSession at 0x7a262629ae90>"
            ],
            "text/html": [
              "\n",
              "            <div>\n",
              "                <p><b>SparkSession - in-memory</b></p>\n",
              "                \n",
              "        <div>\n",
              "            <p><b>SparkContext</b></p>\n",
              "\n",
              "            <p><a href=\"http://446efb39c72b:4040\">Spark UI</a></p>\n",
              "\n",
              "            <dl>\n",
              "              <dt>Version</dt>\n",
              "                <dd><code>v3.5.3</code></dd>\n",
              "              <dt>Master</dt>\n",
              "                <dd><code>local[*]</code></dd>\n",
              "              <dt>AppName</dt>\n",
              "                <dd><code>pyspark-shell</code></dd>\n",
              "            </dl>\n",
              "        </div>\n",
              "        \n",
              "            </div>\n",
              "        "
            ]
          },
          "metadata": {},
          "execution_count": 2
        }
      ],
      "source": [
        "# import SparkSession\n",
        "from pyspark.sql import SparkSession\n",
        "\n",
        "# Create SparkSession\n",
        "spark = SparkSession.builder.master(\"local[*]\").getOrCreate()\n",
        "\n",
        "spark"
      ]
    },
    {
      "cell_type": "code",
      "source": [
        "from google.colab import drive\n",
        "drive.mount('/content/drive')"
      ],
      "metadata": {
        "colab": {
          "base_uri": "https://localhost:8080/"
        },
        "id": "CwWLx_Yqvt0U",
        "outputId": "be31eb90-2d9b-4b1e-d3c7-bdce4831f342"
      },
      "execution_count": 3,
      "outputs": [
        {
          "output_type": "stream",
          "name": "stdout",
          "text": [
            "Mounted at /content/drive\n"
          ]
        }
      ]
    },
    {
      "cell_type": "code",
      "execution_count": 4,
      "metadata": {
        "id": "9Z3p3JFE_KsS",
        "colab": {
          "base_uri": "https://localhost:8080/"
        },
        "outputId": "ecc43417-5bbf-43ae-fcfe-aa3dfbc47d74"
      },
      "outputs": [
        {
          "output_type": "stream",
          "name": "stdout",
          "text": [
            "root\n",
            " |-- abstract: string (nullable = true)\n",
            " |-- authors: string (nullable = true)\n",
            " |-- authors_parsed: array (nullable = true)\n",
            " |    |-- element: array (containsNull = true)\n",
            " |    |    |-- element: string (containsNull = true)\n",
            " |-- categories: string (nullable = true)\n",
            " |-- comments: string (nullable = true)\n",
            " |-- doi: string (nullable = true)\n",
            " |-- id: string (nullable = true)\n",
            " |-- journal-ref: string (nullable = true)\n",
            " |-- license: string (nullable = true)\n",
            " |-- report-no: string (nullable = true)\n",
            " |-- submitter: string (nullable = true)\n",
            " |-- title: string (nullable = true)\n",
            " |-- update_date: string (nullable = true)\n",
            " |-- versions: array (nullable = true)\n",
            " |    |-- element: struct (containsNull = true)\n",
            " |    |    |-- created: string (nullable = true)\n",
            " |    |    |-- version: string (nullable = true)\n",
            "\n"
          ]
        }
      ],
      "source": [
        "# Read and Load Data to Spark\n",
        "df = spark.read.json(\"/content/drive/MyDrive/arxiv-metadata-oai-snapshot.json\")\n",
        "df.printSchema()"
      ]
    },
    {
      "cell_type": "code",
      "execution_count": 5,
      "metadata": {
        "id": "viS8zgdO_KsT",
        "colab": {
          "base_uri": "https://localhost:8080/"
        },
        "outputId": "5248a287-796f-4304-f8d6-fe469e823eb8"
      },
      "outputs": [
        {
          "output_type": "execute_result",
          "data": {
            "text/plain": [
              "25"
            ]
          },
          "metadata": {},
          "execution_count": 5
        }
      ],
      "source": [
        "# check the partitions\n",
        "df.rdd.getNumPartitions()"
      ]
    },
    {
      "cell_type": "markdown",
      "metadata": {
        "id": "m2ivGTrR_KsU"
      },
      "source": [
        "## Question 1: Create a new Schema"
      ]
    },
    {
      "cell_type": "code",
      "execution_count": 6,
      "metadata": {
        "id": "x9AS1Xz__KsU",
        "colab": {
          "base_uri": "https://localhost:8080/"
        },
        "outputId": "9d156c8a-0787-43c7-b320-c0064b936227"
      },
      "outputs": [
        {
          "output_type": "stream",
          "name": "stdout",
          "text": [
            "StructType([StructField('authors', StringType(), True), StructField('categories', StringType(), True), StructField('license', StringType(), True), StructField('comments', StringType(), True), StructField('abstract', StringType(), True), StructField('versions', ArrayType(StringType(), True), True)])\n"
          ]
        }
      ],
      "source": [
        "from pyspark.sql.types import *\n",
        "\n",
        "Schema = StructType([\n",
        "                    StructField('authors', StringType(), True),\n",
        "                    StructField('categories', StringType(), True),\n",
        "                    StructField('license', StringType(), True),\n",
        "                    StructField('comments', StringType(), True),\n",
        "                    StructField('abstract', StringType(), True),\n",
        "                    StructField('versions', ArrayType(StringType()), True),\n",
        "])\n",
        "\n",
        "print(Schema)"
      ]
    },
    {
      "cell_type": "markdown",
      "metadata": {
        "id": "0nqC42SY_KsV"
      },
      "source": [
        "## Question 2: Binding Data to a Schema"
      ]
    },
    {
      "cell_type": "code",
      "execution_count": 7,
      "metadata": {
        "id": "4n3RZ0te_KsW",
        "colab": {
          "base_uri": "https://localhost:8080/"
        },
        "outputId": "8aa034b1-96f6-4405-cec2-ff1ffadba859"
      },
      "outputs": [
        {
          "output_type": "stream",
          "name": "stdout",
          "text": [
            "+--------------------+-----------------+--------------------+--------------------+--------------------+--------------------+\n",
            "|             authors|       categories|             license|            comments|            abstract|            versions|\n",
            "+--------------------+-----------------+--------------------+--------------------+--------------------+--------------------+\n",
            "|C. Bal\\'azs, E. L...|           hep-ph|                NULL|37 pages, 15 figu...|  A fully differe...|[{\"version\":\"v1\",...|\n",
            "|Ileana Streinu an...|    math.CO cs.CG|http://arxiv.org/...|To appear in Grap...|  We describe a n...|[{\"version\":\"v1\",...|\n",
            "|         Hongjun Pan|   physics.gen-ph|                NULL| 23 pages, 3 figures|  The evolution o...|[{\"version\":\"v1\",...|\n",
            "|        David Callan|          math.CO|                NULL|            11 pages|  We show that a ...|[{\"version\":\"v1\",...|\n",
            "|Wael Abu-Shammala...|  math.CA math.FA|                NULL|                NULL|  In this paper w...|[{\"version\":\"v1\",...|\n",
            "|Y. H. Pong and C....|cond-mat.mes-hall|                NULL|6 pages, 4 figure...|  We study the tw...|[{\"version\":\"v1\",...|\n",
            "|Alejandro Corichi...|            gr-qc|                NULL|16 pages, no figu...|  A rather non-st...|[{\"version\":\"v1\",...|\n",
            "|     Damian C. Swift|cond-mat.mtrl-sci|http://arxiv.org/...|   Minor corrections|  A general formu...|[{\"version\":\"v1\",...|\n",
            "|Paul Harvey, Brun...|         astro-ph|                NULL|                NULL|  We discuss the ...|[{\"version\":\"v1\",...|\n",
            "|  Sergei Ovchinnikov|          math.CO|                NULL|36 pages, 17 figures|  Partial cubes a...|[{\"version\":\"v1\",...|\n",
            "|Clifton Cunningha...|  math.NT math.AG|http://arxiv.org/...|14 pages; title c...|  In this paper w...|[{\"version\":\"v1\",...|\n",
            "|         Dohoon Choi|          math.NT|                NULL|                NULL|  Recently, Bruin...|[{\"version\":\"v1\",...|\n",
            "|Dohoon Choi and Y...|          math.NT|                NULL|                NULL|  Serre obtained ...|[{\"version\":\"v1\",...|\n",
            "|        Koichi Fujii|  math.CA math.AT|                NULL|  18 pages, 1 figure|  In this article...|[{\"version\":\"v1\",...|\n",
            "|     Christian Stahn|           hep-th|                NULL|22 pages; signs a...|  The pure spinor...|[{\"version\":\"v1\",...|\n",
            "|Chao-Hsi Chang, T...|           hep-ph|                NULL|17 pages, 3 figur...|  In this work, w...|[{\"version\":\"v1\",...|\n",
            "|Nceba Mhlahlo, Da...|         astro-ph|                NULL|10 pages, 11 figu...|  Results from sp...|[{\"version\":\"v1\",...|\n",
            "|  Andreas Gustavsson|           hep-th|                NULL|20 pages, v2: an ...|  We give a presc...|[{\"version\":\"v1\",...|\n",
            "|         Norio Konno|  math.PR math.AG|                NULL|6 pages, Journal-...|  In this note we...|[{\"version\":\"v1\",...|\n",
            "|The BABAR Collabo...|           hep-ex|                NULL|21 pages, 13 post...|  The shape of th...|[{\"version\":\"v1\",...|\n",
            "+--------------------+-----------------+--------------------+--------------------+--------------------+--------------------+\n",
            "only showing top 20 rows\n",
            "\n"
          ]
        }
      ],
      "source": [
        "# if you provide schema the reading of data will be faster than default\n",
        "\n",
        "df = spark.read.json(\"/content/drive/MyDrive/arxiv-metadata-oai-snapshot.json\", schema = Schema)\n",
        "df.show()"
      ]
    },
    {
      "cell_type": "markdown",
      "metadata": {
        "id": "rrizNbnA_KsW"
      },
      "source": [
        "## Question 3: Missing values for \"comments\" and \"license\" attributes"
      ]
    },
    {
      "cell_type": "code",
      "execution_count": 8,
      "metadata": {
        "id": "BElSJl-T_KsX",
        "colab": {
          "base_uri": "https://localhost:8080/"
        },
        "outputId": "d40d500c-154b-4825-dce2-c45c66472ec1"
      },
      "outputs": [
        {
          "output_type": "stream",
          "name": "stdout",
          "text": [
            "+--------------------+--------------------+--------------------+--------------------+--------------------+--------------------+\n",
            "|             authors|          categories|             license|            comments|            abstract|            versions|\n",
            "+--------------------+--------------------+--------------------+--------------------+--------------------+--------------------+\n",
            "|C. Bal\\'azs, E. L...|              hep-ph|             unknown|37 pages, 15 figu...|  A fully differe...|[{\"version\":\"v1\",...|\n",
            "|Ileana Streinu an...|       math.CO cs.CG|http://arxiv.org/...|To appear in Grap...|  We describe a n...|[{\"version\":\"v1\",...|\n",
            "|         Hongjun Pan|      physics.gen-ph|             unknown| 23 pages, 3 figures|  The evolution o...|[{\"version\":\"v1\",...|\n",
            "|        David Callan|             math.CO|             unknown|            11 pages|  We show that a ...|[{\"version\":\"v1\",...|\n",
            "|Y. H. Pong and C....|   cond-mat.mes-hall|             unknown|6 pages, 4 figure...|  We study the tw...|[{\"version\":\"v1\",...|\n",
            "|Alejandro Corichi...|               gr-qc|             unknown|16 pages, no figu...|  A rather non-st...|[{\"version\":\"v1\",...|\n",
            "|     Damian C. Swift|   cond-mat.mtrl-sci|http://arxiv.org/...|   Minor corrections|  A general formu...|[{\"version\":\"v1\",...|\n",
            "|  Sergei Ovchinnikov|             math.CO|             unknown|36 pages, 17 figures|  Partial cubes a...|[{\"version\":\"v1\",...|\n",
            "|Clifton Cunningha...|     math.NT math.AG|http://arxiv.org/...|14 pages; title c...|  In this paper w...|[{\"version\":\"v1\",...|\n",
            "|        Koichi Fujii|     math.CA math.AT|             unknown|  18 pages, 1 figure|  In this article...|[{\"version\":\"v1\",...|\n",
            "|     Christian Stahn|              hep-th|             unknown|22 pages; signs a...|  The pure spinor...|[{\"version\":\"v1\",...|\n",
            "|Chao-Hsi Chang, T...|              hep-ph|             unknown|17 pages, 3 figur...|  In this work, w...|[{\"version\":\"v1\",...|\n",
            "|Nceba Mhlahlo, Da...|            astro-ph|             unknown|10 pages, 11 figu...|  Results from sp...|[{\"version\":\"v1\",...|\n",
            "|  Andreas Gustavsson|              hep-th|             unknown|20 pages, v2: an ...|  We give a presc...|[{\"version\":\"v1\",...|\n",
            "|         Norio Konno|     math.PR math.AG|             unknown|6 pages, Journal-...|  In this note we...|[{\"version\":\"v1\",...|\n",
            "|The BABAR Collabo...|              hep-ex|             unknown|21 pages, 13 post...|  The shape of th...|[{\"version\":\"v1\",...|\n",
            "|Vanessa Casagrand...|nlin.PS physics.c...|             unknown|  5 pages, 4 figures|  Spatiotemporal ...|[{\"version\":\"v1\",...|\n",
            "|Simon J.A. Malham...|             math.NA|             unknown| 20 pages, 4 figures|  We present Lie ...|[{\"version\":\"v1\",...|\n",
            "|M. A. Loukitcheva...|            astro-ph|             unknown|4 pages, 2 figure...|  The very nature...|[{\"version\":\"v1\",...|\n",
            "|A.A. Serga, M. Ko...|             nlin.PS|             unknown|First appeared in...|  The formation o...|[{\"version\":\"v1\",...|\n",
            "+--------------------+--------------------+--------------------+--------------------+--------------------+--------------------+\n",
            "only showing top 20 rows\n",
            "\n"
          ]
        }
      ],
      "source": [
        "# drop\n",
        "df = df.dropna(subset = [\"comments\"])\n",
        "\n",
        "# replace\n",
        "df = df.fillna(value = \"unknown\", subset = [\"license\"])\n",
        "\n",
        "df.show()"
      ]
    },
    {
      "cell_type": "markdown",
      "metadata": {
        "id": "XiAO1VYb_KsX"
      },
      "source": [
        "## Question 4: Get the author names who published a paper in a 'math' category"
      ]
    },
    {
      "cell_type": "code",
      "execution_count": 10,
      "metadata": {
        "id": "le9Cfbnk_KsY",
        "colab": {
          "base_uri": "https://localhost:8080/"
        },
        "outputId": "d987ff62-acb7-42af-f096-6caba0349501"
      },
      "outputs": [
        {
          "output_type": "stream",
          "name": "stdout",
          "text": [
            "+--------------------+\n",
            "|             authors|\n",
            "+--------------------+\n",
            "|Ileana Streinu an...|\n",
            "|        David Callan|\n",
            "|  Sergei Ovchinnikov|\n",
            "|Clifton Cunningha...|\n",
            "|        Koichi Fujii|\n",
            "|         Norio Konno|\n",
            "|Simon J.A. Malham...|\n",
            "|Robert P. C. de M...|\n",
            "|  P\\'eter E. Frenkel|\n",
            "|          Mihai Popa|\n",
            "|   Debashish Goswami|\n",
            "|      Mikkel {\\O}bro|\n",
            "|Nabil L. Youssef,...|\n",
            "|         Boris Rubin|\n",
            "|         A. I. Molev|\n",
            "| Branko J. Malesevic|\n",
            "|   John W. Robertson|\n",
            "|     Yu.N. Kosovtsov|\n",
            "|        Osamu Fujino|\n",
            "|Stephen C. Power ...|\n",
            "+--------------------+\n",
            "only showing top 20 rows\n",
            "\n",
            "Number of rows:  304590\n"
          ]
        }
      ],
      "source": [
        "df.createOrReplaceTempView(\"arxiv\")\n",
        "\n",
        "query = \"\"\"\n",
        "SELECT authors\n",
        "FROM arxiv\n",
        "WHERE categories LIKE 'math%'\n",
        "\"\"\"\n",
        "\n",
        "spark.sql(query).show()\n",
        "\n",
        "print(\"Number of rows: \", spark.sql(query).count())"
      ]
    },
    {
      "cell_type": "markdown",
      "metadata": {
        "id": "Y5thkuIv_KsY"
      },
      "source": [
        "## Question 5: Get linceses with 5 or more letters in the \"abstract\""
      ]
    },
    {
      "cell_type": "code",
      "execution_count": 13,
      "metadata": {
        "id": "B7LLuIkk_KsZ",
        "colab": {
          "base_uri": "https://localhost:8080/"
        },
        "outputId": "66dfbcf1-68a5-46f0-dbc6-489d9522200b"
      },
      "outputs": [
        {
          "output_type": "stream",
          "name": "stdout",
          "text": [
            "+--------------------+\n",
            "|             license|\n",
            "+--------------------+\n",
            "|http://arxiv.org/...|\n",
            "|http://creativeco...|\n",
            "|http://creativeco...|\n",
            "|http://creativeco...|\n",
            "|             unknown|\n",
            "+--------------------+\n",
            "\n",
            "Number of rows:  5\n"
          ]
        }
      ],
      "source": [
        "sql_query = \"\"\" SELECT distinct(license) FROM arxiv\n",
        "                WHERE abstract REGEXP '%\\(([A-Za-z][^_ /\\\\<>]{5,})\\)%'\n",
        "            \"\"\"\n",
        "\n",
        "\n",
        "spark.sql(sql_query).show()\n",
        "print(\"Number of rows: \", spark.sql(sql_query).count())\n"
      ]
    },
    {
      "cell_type": "markdown",
      "metadata": {
        "id": "hjELziqH_KsZ"
      },
      "source": [
        "## Question 6: Extract the statistic of the number of pages for unknown licenses"
      ]
    },
    {
      "cell_type": "code",
      "source": [
        "import re\n",
        "\n",
        "def get_pages(line):\n",
        "  search = re.findall(r\"\\d+ pages\", line)\n",
        "  if search:\n",
        "    return int(search[0].split(\" \")[0])\n",
        "  else:\n",
        "    return 0\n",
        "\n",
        "\n",
        "get_pages('there are 100 pages')"
      ],
      "metadata": {
        "colab": {
          "base_uri": "https://localhost:8080/"
        },
        "id": "jgJWGXF9zvyr",
        "outputId": "4aa70b4e-e07a-45f1-9aa4-6e6f77ce01d8"
      },
      "execution_count": 16,
      "outputs": [
        {
          "output_type": "execute_result",
          "data": {
            "text/plain": [
              "100"
            ]
          },
          "metadata": {},
          "execution_count": 16
        }
      ]
    },
    {
      "cell_type": "markdown",
      "source": [
        "**Register the UDF**"
      ],
      "metadata": {
        "id": "u5A_ESbk0DiS"
      }
    },
    {
      "cell_type": "code",
      "source": [
        "spark.udf.register(\"get_pages\", get_pages)"
      ],
      "metadata": {
        "colab": {
          "base_uri": "https://localhost:8080/",
          "height": 104
        },
        "id": "RWhqUCXl0DAF",
        "outputId": "88e0adc8-561f-4a91-80b5-34b057cbada4"
      },
      "execution_count": 17,
      "outputs": [
        {
          "output_type": "execute_result",
          "data": {
            "text/plain": [
              "<function __main__.get_pages(line)>"
            ],
            "text/html": [
              "<div style=\"max-width:800px; border: 1px solid var(--colab-border-color);\"><style>\n",
              "      pre.function-repr-contents {\n",
              "        overflow-x: auto;\n",
              "        padding: 8px 12px;\n",
              "        max-height: 500px;\n",
              "      }\n",
              "\n",
              "      pre.function-repr-contents.function-repr-contents-collapsed {\n",
              "        cursor: pointer;\n",
              "        max-height: 100px;\n",
              "      }\n",
              "    </style>\n",
              "    <pre style=\"white-space: initial; background:\n",
              "         var(--colab-secondary-surface-color); padding: 8px 12px;\n",
              "         border-bottom: 1px solid var(--colab-border-color);\"><b>get_pages</b><br/>def get_pages(line)</pre><pre class=\"function-repr-contents function-repr-contents-collapsed\" style=\"\"><a class=\"filepath\" style=\"display:none\" href=\"#\">/content/&lt;ipython-input-16-a6f90544f60e&gt;</a>&lt;no docstring&gt;</pre></div>"
            ]
          },
          "metadata": {},
          "execution_count": 17
        }
      ]
    },
    {
      "cell_type": "code",
      "execution_count": 20,
      "metadata": {
        "id": "B1DYmkI8_KsZ"
      },
      "outputs": [],
      "source": [
        "query = \"\"\"SELECT AVG(get_pages(comments)) AS avg, SUM(get_pages(comments)) AS sum,\n",
        "                STD(get_pages(comments)) AS std\n",
        "                FROM arxiv\n",
        "                WHERE license=\"unknown\"\n",
        "                \"\"\""
      ]
    },
    {
      "cell_type": "code",
      "source": [
        "spark.sql(query).show()"
      ],
      "metadata": {
        "colab": {
          "base_uri": "https://localhost:8080/"
        },
        "id": "w6jfPP8a0Xw4",
        "outputId": "943ca828-b29b-4c98-de64-f269cf27d0ac"
      },
      "execution_count": 21,
      "outputs": [
        {
          "output_type": "stream",
          "name": "stdout",
          "text": [
            "+------------------+---------+------------------+\n",
            "|               avg|      sum|               std|\n",
            "+------------------+---------+------------------+\n",
            "|13.368011068572079|5642584.0|16.777518213632323|\n",
            "+------------------+---------+------------------+\n",
            "\n"
          ]
        }
      ]
    }
  ],
  "metadata": {
    "kernelspec": {
      "display_name": "Python 3",
      "language": "python",
      "name": "python3"
    },
    "language_info": {
      "codemirror_mode": {
        "name": "ipython",
        "version": 3
      },
      "file_extension": ".py",
      "mimetype": "text/x-python",
      "name": "python",
      "nbconvert_exporter": "python",
      "pygments_lexer": "ipython3",
      "version": "3.8.3"
    },
    "colab": {
      "provenance": []
    }
  },
  "nbformat": 4,
  "nbformat_minor": 0
}